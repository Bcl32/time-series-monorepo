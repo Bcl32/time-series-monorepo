{
 "cells": [
  {
   "cell_type": "code",
   "execution_count": 11,
   "metadata": {},
   "outputs": [],
   "source": [
    "URL=\"https://www.cse-cst.gc.ca/en/corporate-information/mandate\""
   ]
  },
  {
   "cell_type": "code",
   "execution_count": 4,
   "metadata": {},
   "outputs": [
    {
     "name": "stdout",
     "output_type": "stream",
     "text": [
      "Requirement already satisfied: pypdf in /usr/local/lib/python3.10/site-packages (5.6.0)\n",
      "Requirement already satisfied: typing_extensions>=4.0 in /usr/local/lib/python3.10/site-packages (from pypdf) (4.13.2)\n",
      "\u001b[33mWARNING: Running pip as the 'root' user can result in broken permissions and conflicting behaviour with the system package manager. It is recommended to use a virtual environment instead: https://pip.pypa.io/warnings/venv\u001b[0m\u001b[33m\n",
      "\u001b[0m\n",
      "\u001b[1m[\u001b[0m\u001b[34;49mnotice\u001b[0m\u001b[1;39;49m]\u001b[0m\u001b[39;49m A new release of pip is available: \u001b[0m\u001b[31;49m23.0.1\u001b[0m\u001b[39;49m -> \u001b[0m\u001b[32;49m25.1.1\u001b[0m\n",
      "\u001b[1m[\u001b[0m\u001b[34;49mnotice\u001b[0m\u001b[1;39;49m]\u001b[0m\u001b[39;49m To update, run: \u001b[0m\u001b[32;49mpip install --upgrade pip\u001b[0m\n",
      "Note: you may need to restart the kernel to use updated packages.\n"
     ]
    }
   ],
   "source": [
    "pip install pypdf"
   ]
  },
  {
   "cell_type": "markdown",
   "metadata": {},
   "source": [
    "## Setup"
   ]
  },
  {
   "cell_type": "code",
   "execution_count": 7,
   "metadata": {},
   "outputs": [],
   "source": [
    "# Model\n",
    "from langchain.chat_models import init_chat_model\n",
    "llm = init_chat_model(\"gpt-4o-mini\", model_provider=\"openai\")\n",
    "# Embedding\n",
    "from langchain_openai import OpenAIEmbeddings\n",
    "embeddings = OpenAIEmbeddings(model=\"text-embedding-3-large\")\n",
    "# Vector Store\n",
    "from langchain_core.vectorstores import InMemoryVectorStore\n",
    "vector_store = InMemoryVectorStore(embeddings)"
   ]
  },
  {
   "cell_type": "code",
   "execution_count": 1,
   "metadata": {},
   "outputs": [
    {
     "name": "stdout",
     "output_type": "stream",
     "text": [
      "app/static/input/Communications Security Establishment 101.pdf\n",
      "app/static/input/CSE Mandates Overview.pdf\n"
     ]
    }
   ],
   "source": [
    "from pathlib import Path\n",
    "\n",
    "# Define root folder path\n",
    "root_path = Path(\"./app/static/input\")\n",
    "\n",
    "# List of file or folder names\n",
    "file_names = [\"Communications Security Establishment 101.pdf\",\n",
    "       \"CSE Mandates Overview.pdf\"\n",
    "       ]\n",
    "\n",
    "# Append each file name to the root path\n",
    "full_paths = [root_path / file_name for file_name in file_names]\n",
    "\n",
    "# Print full paths\n",
    "for path in full_paths:\n",
    "    print(path)\n"
   ]
  },
  {
   "cell_type": "code",
   "execution_count": 4,
   "metadata": {},
   "outputs": [
    {
     "name": "stdout",
     "output_type": "stream",
     "text": [
      "Imported 54 pages from 3 PDF files.\n"
     ]
    }
   ],
   "source": [
    "from pathlib import Path\n",
    "from langchain.document_loaders import PyPDFLoader\n",
    "\n",
    "# Set the directory containing PDFs\n",
    "pdf_dir = Path(\"./app/static/input\")\n",
    "\n",
    "# Get all PDF files in the directory\n",
    "pdf_files = list(pdf_dir.glob(\"*.pdf\"))\n",
    "\n",
    "# Load documents using PyPDFLoader\n",
    "docs = []\n",
    "for pdf_file in pdf_files:\n",
    "    loader = PyPDFLoader(str(pdf_file))  # PyPDFLoader expects a string path\n",
    "    pages = loader.load()\n",
    "    docs.extend(pages)  # each PDF returns a list of Document objects\n",
    "\n",
    "# Now `documents` contains all the parsed pages from all PDFs\n",
    "print(f\"Imported {len(docs)} pages from {len(pdf_files)} PDF files.\")\n"
   ]
  },
  {
   "cell_type": "code",
   "execution_count": 13,
   "metadata": {},
   "outputs": [
    {
     "name": "stdout",
     "output_type": "stream",
     "text": [
      "1\n"
     ]
    }
   ],
   "source": [
    "files=[\"Communications Security Establishment 101.pdf\",\n",
    "       \"CSE Mandates Overview.pdf\"\n",
    "       ]\n",
    "\n",
    "from langchain_community.document_loaders import PyPDFLoader\n",
    "\n",
    "file_path = \"./app/static/input/CSE Mandates Overview.pdf\"\n",
    "loader = PyPDFLoader(file_path)\n",
    "\n",
    "docs = loader.load()\n",
    "\n",
    "print(len(docs))"
   ]
  },
  {
   "cell_type": "code",
   "execution_count": 3,
   "metadata": {},
   "outputs": [
    {
     "name": "stdout",
     "output_type": "stream",
     "text": [
      "Communications Security Establishment 101\n",
      "On this Page\n",
      "Who We Are...\n",
      "CSE is Canada's foreign signals intelligence agency, and technical authority for cyber\n",
      "security and information assurance.\n",
      "CSE includes the Canadian Centre for Cyber Security (the Cyber Centre), which is the\n",
      "federal government's operational lead for cyber security.\n",
      "CSE's mandate has 5 aspects:\n",
      "Foreign signals intelligence;\n",
      "Cyber security;\n",
      "Active cyber operations;\n",
      "Defensive cyber operations;\n",
      "Technical and operational assistance \n"
     ]
    }
   ],
   "source": [
    "print(docs[0].page_content[:500])"
   ]
  },
  {
   "cell_type": "code",
   "execution_count": 5,
   "metadata": {},
   "outputs": [
    {
     "name": "stdout",
     "output_type": "stream",
     "text": [
      "Split blog post into 211 sub-documents.\n"
     ]
    }
   ],
   "source": [
    "from langchain_text_splitters import RecursiveCharacterTextSplitter\n",
    "\n",
    "text_splitter = RecursiveCharacterTextSplitter(\n",
    "    chunk_size=1000,  # chunk size (characters)\n",
    "    chunk_overlap=200,  # chunk overlap (characters)\n",
    "    add_start_index=True,  # track index in original document\n",
    ")\n",
    "all_splits = text_splitter.split_documents(docs)\n",
    "\n",
    "print(f\"Split blog post into {len(all_splits)} sub-documents.\")"
   ]
  },
  {
   "cell_type": "code",
   "execution_count": 8,
   "metadata": {},
   "outputs": [
    {
     "name": "stdout",
     "output_type": "stream",
     "text": [
      "['ea7a70c2-346f-46ec-9d24-3d9bab8db645', 'b95d1640-6999-49f2-bc90-746c9c9d1ab6', '38e279c7-8ff9-4004-a3d7-661e3973a4d0']\n"
     ]
    }
   ],
   "source": [
    "document_ids = vector_store.add_documents(documents=all_splits)\n",
    "\n",
    "print(document_ids[:3])"
   ]
  },
  {
   "cell_type": "code",
   "execution_count": 9,
   "metadata": {},
   "outputs": [
    {
     "name": "stdout",
     "output_type": "stream",
     "text": [
      "You are an assistant for question-answering tasks. Use the following pieces of retrieved context to answer the question. If you don't know the answer, just say that you don't know. Use three sentences maximum and keep the answer concise.\n",
      "Question: (question goes here) \n",
      "Context: (context goes here) \n",
      "Answer:\n"
     ]
    }
   ],
   "source": [
    "from langchain import hub\n",
    "\n",
    "# N.B. for non-US LangSmith endpoints, you may need to specify\n",
    "# api_url=\"https://api.smith.langchain.com\" in hub.pull.\n",
    "prompt = hub.pull(\"rlm/rag-prompt\")\n",
    "\n",
    "example_messages = prompt.invoke(\n",
    "    {\"context\": \"(context goes here)\", \"question\": \"(question goes here)\"}\n",
    ").to_messages()\n",
    "\n",
    "assert len(example_messages) == 1\n",
    "print(example_messages[0].content)"
   ]
  },
  {
   "cell_type": "code",
   "execution_count": 10,
   "metadata": {},
   "outputs": [],
   "source": [
    "from langchain_core.documents import Document\n",
    "from typing_extensions import List, TypedDict\n",
    "\n",
    "\n",
    "class State(TypedDict):\n",
    "    question: str\n",
    "    context: List[Document]\n",
    "    answer: str"
   ]
  },
  {
   "cell_type": "code",
   "execution_count": 11,
   "metadata": {},
   "outputs": [],
   "source": [
    "def retrieve(state: State):\n",
    "    retrieved_docs = vector_store.similarity_search(state[\"question\"])\n",
    "    return {\"context\": retrieved_docs}\n",
    "\n",
    "\n",
    "def generate(state: State):\n",
    "    docs_content = \"\\n\\n\".join(doc.page_content for doc in state[\"context\"])\n",
    "    messages = prompt.invoke({\"question\": state[\"question\"], \"context\": docs_content})\n",
    "    response = llm.invoke(messages)\n",
    "    return {\"answer\": response.content}"
   ]
  },
  {
   "cell_type": "code",
   "execution_count": 12,
   "metadata": {},
   "outputs": [],
   "source": [
    "from langgraph.graph import START, StateGraph\n",
    "\n",
    "graph_builder = StateGraph(State).add_sequence([retrieve, generate])\n",
    "graph_builder.add_edge(START, \"retrieve\")\n",
    "graph = graph_builder.compile()"
   ]
  },
  {
   "cell_type": "code",
   "execution_count": 21,
   "metadata": {},
   "outputs": [
    {
     "data": {
      "image/png": "[encoded data removed]",
      "text/plain": [
       "<IPython.core.display.Image object>"
      ]
     },
     "metadata": {},
     "output_type": "display_data"
    }
   ],
   "source": [
    "from IPython.display import Image, display\n",
    "\n",
    "display(Image(graph.get_graph().draw_mermaid_png()))"
   ]
  },
  {
   "cell_type": "code",
   "execution_count": 13,
   "metadata": {},
   "outputs": [
    {
     "name": "stdout",
     "output_type": "stream",
     "text": [
      "Context: [Document(id='015d5c48-5f58-442f-82b5-117e705a3f9f', metadata={'producer': 'Skia/PDF m132', 'creator': 'Mozilla/5.0 (Macintosh; Intel Mac OS X 10_15_7) AppleWebKit/537.36 (KHTML, like Gecko) obsidian/1.8.9 Chrome/132.0.6834.210 Electron/34.3.0 Safari/537.36', 'creationdate': '2025-06-06T19:28:53+00:00', 'title': 'CSE faq - Notes - Obsidian v1.8.10', 'moddate': '2025-06-06T19:28:53+00:00', 'source': 'app/static/input/Communications Security Establishment 101.pdf', 'total_pages': 18, 'page': 6, 'page_label': '7', 'start_index': 0}, page_content=\"Caption\\nCSE's mandate as it is presented in the CSE Act. The mandate is divided into 5 parts.\\nOversight\\nForeign Signals Intelligence\\nCSE's ability to collect Foreign Signals Intelligence through the use of advanced\\ntechniques.\\nAcquire information from or through the Global Information Infrastructure (GII)\\nlocated outside Canada including by engaging or interacting foreign entities\\nlocated outside Canada.\\nTechnical and operational assistance\\nProvide assistance to federal law enforcement and security agencies, CAF, and DND.\\nUse advanced techniques to support partners' activities, including cyber\\noperations for governments-authorized missions.\\nCybersecurity and Information Assurance\\nDefend important Canadian networks.\\nProvide advice, guidance, and services to protect important networks across\\nthe country, federal institutions, and electronic information and infrastructures\\nof importance to the Government of Canada.\\nDefensive Cyber Operations\"), Document(id='1f1640da-1656-48fc-a730-e4ca3e63937f', metadata={'producer': 'Skia/PDF m132', 'creator': 'Mozilla/5.0 (Macintosh; Intel Mac OS X 10_15_7) AppleWebKit/537.36 (KHTML, like Gecko) obsidian/1.8.9 Chrome/132.0.6834.210 Electron/34.3.0 Safari/537.36', 'creationdate': '2025-06-06T17:18:17+00:00', 'title': 'CSE - Notes - Obsidian v1.8.10', 'moddate': '2025-06-06T17:18:17+00:00', 'source': 'app/static/input/CSE Mandates Overview.pdf', 'total_pages': 1, 'page': 0, 'page_label': '1', 'start_index': 0}, page_content='CSE is the national signals intelligence agency for foreign intelligence and the technical\\nauthority for cyber security and information assurance.\\nThe Communications Security Establishment Act (the CSE Act) sets out the five aspects of\\nour mandate:\\nWe use our technical expertise in all five aspects of our mandate. We do so to keep\\nCanadians safe and secure.\\ncyber security and information assurance: CSE acquires, uses, and analyzes information\\nfrom the global information infrastructure, or from other sources, to provide advice,\\nguidance and services to help protect electronic information and information\\ninfrastructures.\\nforeign intelligence: CSE acquires, covertly or otherwise, information from or through the\\nglobal information infrastructure, to provide foreign intelligence, in accordance with the\\nGovernment of Canadaʼs intelligence priorities.\\ndefensive cyber operations: CSE carries out activities on or through the global'), Document(id='0cfbf559-ff0a-46d9-b5ee-a55207d177d6', metadata={'producer': 'Skia/PDF m132', 'creator': 'Mozilla/5.0 (Macintosh; Intel Mac OS X 10_15_7) AppleWebKit/537.36 (KHTML, like Gecko) obsidian/1.8.9 Chrome/132.0.6834.210 Electron/34.3.0 Safari/537.36', 'creationdate': '2025-06-06T19:28:53+00:00', 'title': 'CSE faq - Notes - Obsidian v1.8.10', 'moddate': '2025-06-06T19:28:53+00:00', 'source': 'app/static/input/Communications Security Establishment 101.pdf', 'total_pages': 18, 'page': 10, 'page_label': '11', 'start_index': 741}, page_content=\"5 key areas:\\nInform Canada and Canadians about cyber security matters through advice and\\nguidance publications, Get Cyber Safe public awareness campaign, social media and\\nthe website.\\nProtect Canadians' cyber security interests through direct hands-on assistance and\\nstrong collaborative partnerships, as well as cyber security products.\\nDevelop and Share specialized cyber defence technologies and tools.\\nDefend cyber systems, including government systems, against sophisticated and\\nstate- sponsored cyber threats by deploying advanced cyber defence solutions.\\nAct as operational leader and government spokesperson during cyber security\\nevents.\\nUnder the CSE Act, CSE is mandated to assist federal law enforcement and security\\nagencies and DND/CAF.\\nWhen assisting federal partners, CSE will have the same authorities and limitations as the\\nrequesting agency (e.g. pursuant to judicial warrants or CSIS threat reduction\\nauthorities).\"), Document(id='efe4d909-bd59-4887-8253-c006fc5bf644', metadata={'producer': 'Skia/PDF m132', 'creator': 'Mozilla/5.0 (Macintosh; Intel Mac OS X 10_15_7) AppleWebKit/537.36 (KHTML, like Gecko) obsidian/1.8.9 Chrome/132.0.6834.210 Electron/34.3.0 Safari/537.36', 'creationdate': '2025-06-06T19:28:53+00:00', 'title': 'CSE faq - Notes - Obsidian v1.8.10', 'moddate': '2025-06-06T19:28:53+00:00', 'source': 'app/static/input/Communications Security Establishment 101.pdf', 'total_pages': 18, 'page': 0, 'page_label': '1', 'start_index': 0}, page_content=\"Communications Security Establishment 101\\nOn this Page\\nWho We Are...\\nCSE is Canada's foreign signals intelligence agency, and technical authority for cyber\\nsecurity and information assurance.\\nCSE includes the Canadian Centre for Cyber Security (the Cyber Centre), which is the\\nfederal government's operational lead for cyber security.\\nCSE's mandate has 5 aspects:\\nForeign signals intelligence;\\nCyber security;\\nActive cyber operations;\\nDefensive cyber operations;\\nTechnical and operational assistance to federal partners.\\nHome of the High Assurance Communications Security (COMSEC).\\nTop Secret Enterprise System provider for the Government of Canada.\\nA member of the Five Eyes intelligence alliance.\\nThe Chief/Deputy Minister of CSE reports directly to the Minister of National Defence.\")]\n",
      "\n",
      "\n",
      "Answer: CSE's mandate includes five key aspects: foreign signals intelligence, cybersecurity, active cyber operations, defensive cyber operations, and technical assistance to federal partners. It focuses on collecting foreign intelligence, defending Canadian networks, and providing support to government agencies in security-related operations. Additionally, CSE informs Canadians about cybersecurity matters and safeguards important electronic infrastructures.\n"
     ]
    }
   ],
   "source": [
    "result = graph.invoke({\"question\": \"What are the mandates of CSE?\"})\n",
    "\n",
    "print(f'Context: {result[\"context\"]}\\n\\n')\n",
    "print(f'Answer: {result[\"answer\"]}')"
   ]
  }
 ],
 "metadata": {
  "kernelspec": {
   "display_name": "Python 3",
   "language": "python",
   "name": "python3"
  },
  "language_info": {
   "codemirror_mode": {
    "name": "ipython",
    "version": 3
   },
   "file_extension": ".py",
   "mimetype": "text/x-python",
   "name": "python",
   "nbconvert_exporter": "python",
   "pygments_lexer": "ipython3",
   "version": "3.10.17"
  }
 },
 "nbformat": 4,
 "nbformat_minor": 2
}
