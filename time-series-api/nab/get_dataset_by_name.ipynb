{
 "cells": [
  {
   "cell_type": "code",
   "execution_count": 1,
   "metadata": {},
   "outputs": [
    {
     "name": "stdout",
     "output_type": "stream",
     "text": [
      "Requirement already satisfied: tqdm in /usr/local/lib/python3.10/site-packages (4.66.5)\n",
      "\u001b[33mWARNING: Running pip as the 'root' user can result in broken permissions and conflicting behaviour with the system package manager. It is recommended to use a virtual environment instead: https://pip.pypa.io/warnings/venv\u001b[0m\u001b[33m\n",
      "\u001b[0m\n",
      "\u001b[1m[\u001b[0m\u001b[34;49mnotice\u001b[0m\u001b[1;39;49m]\u001b[0m\u001b[39;49m A new release of pip is available: \u001b[0m\u001b[31;49m23.0.1\u001b[0m\u001b[39;49m -> \u001b[0m\u001b[32;49m24.2\u001b[0m\n",
      "\u001b[1m[\u001b[0m\u001b[34;49mnotice\u001b[0m\u001b[1;39;49m]\u001b[0m\u001b[39;49m To update, run: \u001b[0m\u001b[32;49mpip install --upgrade pip\u001b[0m\n",
      "/app/nab\n",
      "ROOT_PATH = /app\n"
     ]
    }
   ],
   "source": [
    "import httpx\n",
    "import sys\n",
    "sys.path.append('../')\n",
    "\n",
    "!{sys.executable} -m pip install tqdm\n",
    "from tqdm import tqdm\n",
    "\n",
    "import os\n",
    "import json\n",
    "import pandas as pd\n",
    "from pathlib import Path\n",
    "\n",
    "#custom imports\n",
    "import config\n",
    "import nab_utils\n",
    "\n",
    "BASE_URL='http://127.0.0.1:8000'"
   ]
  },
  {
   "cell_type": "code",
   "execution_count": 7,
   "metadata": {},
   "outputs": [],
   "source": [
    "dataset_name=\"artificialWithAnomaly/art_daily_jumpsdown.csv\"\n",
    "\n",
    "name=[\"artificialWithAnomaly/art_daily_jumpsdown.csv\"]\n",
    "\n",
    "query_params={\"column\":\"name\",\"value\":name}\n",
    "\n",
    "async with httpx.AsyncClient(base_url=BASE_URL) as client:\n",
    "    response = await client.post(\"/dataset/get_by_column\", params=query_params)"
   ]
  },
  {
   "cell_type": "code",
   "execution_count": 9,
   "metadata": {},
   "outputs": [
    {
     "ename": "SyntaxError",
     "evalue": "'async with' outside async function (1008198514.py, line 6)",
     "output_type": "error",
     "traceback": [
      "\u001b[0;36m  Cell \u001b[0;32mIn[9], line 6\u001b[0;36m\u001b[0m\n\u001b[0;31m    async with httpx.AsyncClient(base_url=BASE_URL) as client:\u001b[0m\n\u001b[0m    ^\u001b[0m\n\u001b[0;31mSyntaxError\u001b[0m\u001b[0;31m:\u001b[0m 'async with' outside async function\n"
     ]
    }
   ],
   "source": [
    "response.json()\n",
    "\n",
    "def get_dataset_by_name(name):\n",
    "    query_params={\"column\":\"name\",\"value\":[name]}\n",
    "\n",
    "    async with httpx.AsyncClient(base_url=BASE_URL) as client:\n",
    "        response = await client.post(\"/dataset/get_by_column\", params=query_params)\n",
    "    \n",
    "    return response['id']"
   ]
  },
  {
   "cell_type": "code",
   "execution_count": null,
   "metadata": {},
   "outputs": [],
   "source": []
  }
 ],
 "metadata": {
  "kernelspec": {
   "display_name": "Python 3",
   "language": "python",
   "name": "python3"
  },
  "language_info": {
   "codemirror_mode": {
    "name": "ipython",
    "version": 3
   },
   "file_extension": ".py",
   "mimetype": "text/x-python",
   "name": "python",
   "nbconvert_exporter": "python",
   "pygments_lexer": "ipython3",
   "version": "3.10.14"
  }
 },
 "nbformat": 4,
 "nbformat_minor": 2
}
