{
 "cells": [
  {
   "cell_type": "code",
   "execution_count": 1,
   "metadata": {},
   "outputs": [
    {
     "name": "stdout",
     "output_type": "stream",
     "text": [
      "/app/nab\n",
      "ROOT_PATH = /app\n"
     ]
    }
   ],
   "source": [
    "import sys\n",
    "sys.path.append('../')\n",
    "import math\n",
    "import os\n",
    "import json\n",
    "import pickle\n",
    "import pandas as pd\n",
    "import numpy as np\n",
    "from datetime import datetime\n",
    "from pathlib import Path\n",
    "import config\n",
    "import nab_utils"
   ]
  },
  {
   "cell_type": "code",
   "execution_count": 2,
   "metadata": {},
   "outputs": [],
   "source": [
    "LABELS_FILE=Path(config.NAB_ASSETS) / \"labels\" / \"combined_labels.json\"\n",
    "with open(LABELS_FILE) as json_file:\n",
    "    labels=json.load(json_file)\n",
    "\n",
    "def load_raw_datasets(directory, input_filenames):\n",
    "    datasets={}\n",
    "    for file in input_filenames:\n",
    "        datasets[file]=pd.read_csv(directory / file)\n",
    "    return datasets\n",
    "\n",
    "def process_datasets(datasets):\n",
    "    for file in input_filenames:\n",
    "        datasets[file]['timestamp']=pd.to_datetime(datasets[file]['timestamp']) #set timestamps to datetime objects\n",
    "        datasets[file]['index']=datasets[file]['timestamp']\n",
    "        datasets[file]=datasets[file].set_index(\"index\") #set index to datetime column\n",
    "        datasets[file][\"anomaly_score\"]=0 # creates new column for labeled anomalies and fills with 0\n",
    "\n",
    "        for item in labels[file]: #for each entry in the labels for this file\n",
    "            datasets[file].at[item,\"anomaly_score\"]=1 #set label to true\n",
    "\n",
    "input_filenames=nab_utils.get_input_filenames(rootdir = config.NAB_ASSETS / \"raw_datasets\")\n",
    "datasets=load_raw_datasets(directory = config.NAB_ASSETS / \"raw_datasets\" , input_filenames=input_filenames)\n",
    "process_datasets(datasets)"
   ]
  },
  {
   "cell_type": "code",
   "execution_count": 3,
   "metadata": {},
   "outputs": [],
   "source": [
    "for file in input_filenames:\n",
    "    folder = file.split(\"/\")[0]\n",
    "    filename = \"labeler_\"+file.split(\"/\")[1]\n",
    "    save_path=config.NAB_ASSETS / \"predictions\" / \"labeler\" / folder \n",
    "    Path(save_path).mkdir(parents=True, exist_ok=True) #make folder if doesn't yet exist\n",
    "    datasets[file].to_csv(Path(save_path / filename).with_suffix('.csv'),index=False)"
   ]
  }
 ],
 "metadata": {
  "kernelspec": {
   "display_name": "Python 3",
   "language": "python",
   "name": "python3"
  },
  "language_info": {
   "codemirror_mode": {
    "name": "ipython",
    "version": 3
   },
   "file_extension": ".py",
   "mimetype": "text/x-python",
   "name": "python",
   "nbconvert_exporter": "python",
   "pygments_lexer": "ipython3",
   "version": "3.10.15"
  }
 },
 "nbformat": 4,
 "nbformat_minor": 2
}
