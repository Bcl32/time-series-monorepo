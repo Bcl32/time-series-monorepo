{
 "cells": [
  {
   "cell_type": "code",
   "execution_count": null,
   "metadata": {},
   "outputs": [],
   "source": [
    "## Time Tests\n",
    "\n",
    "@timeit\n",
    "async def test_sequential_anomaly_insert(dataset_id, anomaly_records):\n",
    "       #test adding an anomaly to a dataset\n",
    "       for item in anomaly_records:\n",
    "              async with httpx.AsyncClient(base_url=BASE_URL) as client:\n",
    "                     anomaly_response = await client.post(\"/anomaly/create/\"+dataset_id, json=item)\n",
    "\n",
    "@timeit\n",
    "async def test_gather_individual_anomaly_insert(dataset_id, anomaly_records):\n",
    "       async with httpx.AsyncClient(base_url=BASE_URL) as client:\n",
    "              anomalies = await asyncio.gather(*[client.post(\"/anomaly/create/\"+dataset_id, json=anomaly) for anomaly in anomaly_records])\n",
    "       return anomalies\n",
    "\n",
    "@timeit\n",
    "async def test_batch_insert_anomalies(dataset_id, anomaly_records):\n",
    "       async with httpx.AsyncClient(base_url=BASE_URL) as client:\n",
    "              anomaly_response = await client.post(\"/anomaly/create_many/\"+dataset_id, json=anomaly_records)\n",
    "       return anomaly_response"
   ]
  },
  {
   "cell_type": "code",
   "execution_count": null,
   "metadata": {},
   "outputs": [],
   "source": [
    "#test adding collection\n",
    "@timeit\n",
    "async def add_collection_test(collection_name):\n",
    "       collection_object=build_collection_object(collection_name)\n",
    "       async with httpx.AsyncClient(base_url=BASE_URL) as client:\n",
    "              response = await client.post(\"/collection/create\", json=collection_object)\n",
    "       return response.json()\n",
    "       \n",
    "@timeit\n",
    "async def add_datafeed_test(collection_id):\n",
    "       #test adding a dataset with the id of a created collection\n",
    "       dataset_name=\"realKnownCause/nyc_taxi.csv\"\n",
    "       datafeed_object,anomaly_records=build_datafeed_object(dataset_name)\n",
    "       async with httpx.AsyncClient(base_url=BASE_URL) as client:\n",
    "              response = await client.post(\"/datafeed/create/\"+collection_id, json={\"payload\":datafeed_object})\n",
    "       return response.json(), anomaly_records\n",
    "\n",
    "@timeit\n",
    "async def add_prediction(dataset_response,detector_id):\n",
    "       dataset_object={\"name\":dataset_response['name'],\"id\":dataset_response['id']}\n",
    "       prediction=build_prediction_object(dataset_object,detector_id)\n",
    "\n",
    "       #make scored dataset object\n",
    "       async with httpx.AsyncClient(base_url=BASE_URL) as client: \n",
    "              response = await client.post(\"/prediction/create\", json=prediction)\n",
    "\n",
    "       return response\n",
    "\n",
    "@timeit\n",
    "async def add_anomalies(anomaly_entries,prediction_id,detector_id):\n",
    "       for anomaly in anomaly_entries:\n",
    "              anomaly[\"detector_id\"]=detector_id\n",
    "              anomaly[\"prediction_id\"]=prediction_id\n",
    "              print(anomaly)\n",
    "       async with httpx.AsyncClient(base_url=BASE_URL) as client: \n",
    "              anomalies = await client.post(\"/anomaly/create_many\", json=anomaly_entries)\n",
    "       return anomalies\n",
    "\n",
    "#response = await add_collection_test(\"test_nab\")\n",
    "print(response)\n",
    "#collection_id=response['id']\n",
    "#dataset_response, anomaly_records = await add_dataset_test(collection_id)\n",
    "\n",
    "#prediction_response = await add_prediction(dataset_response,detector_id)\n",
    "\n",
    "#anomalies= await add_anomalies(anomaly_records,prediction_response.json()['id'],detector_id)"
   ]
  }
 ],
 "metadata": {
  "kernelspec": {
   "display_name": "Python 3",
   "language": "python",
   "name": "python3"
  },
  "language_info": {
   "codemirror_mode": {
    "name": "ipython",
    "version": 3
   },
   "file_extension": ".py",
   "mimetype": "text/x-python",
   "name": "python",
   "nbconvert_exporter": "python",
   "pygments_lexer": "ipython3",
   "version": "3.10.15"
  }
 },
 "nbformat": 4,
 "nbformat_minor": 2
}
