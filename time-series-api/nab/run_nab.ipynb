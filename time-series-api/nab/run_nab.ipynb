{
 "cells": [
  {
   "cell_type": "code",
   "execution_count": 1,
   "metadata": {},
   "outputs": [],
   "source": [
    "import sys\n",
    "sys.path.append('..')\n",
    "\n",
    "import math\n",
    "import os\n",
    "import json\n",
    "import pickle\n",
    "import pandas as pd\n",
    "import numpy as np\n",
    "from datetime import datetime\n",
    "from pathlib import Path\n",
    "import config\n",
    "\n",
    "from nab.runner import Runner\n",
    "from nab.util import (detectorNameToClass, checkInputs)"
   ]
  },
  {
   "cell_type": "code",
   "execution_count": 5,
   "metadata": {},
   "outputs": [],
   "source": [
    "detectors=[\"null\"]\n",
    "\n",
    "def getDetectorClassConstructors(detectors):\n",
    "  \"\"\"\n",
    "  Takes in names of detectors. Collects class names that correspond to those\n",
    "  detectors and returns them in a dict. The dict maps detector name to class\n",
    "  names. Assumes the detectors have been imported.\n",
    "  \"\"\"\n",
    "  detectorConstructors = {\n",
    "  d : globals()[detectorNameToClass(d)] for d in detectors}\n",
    "\n",
    "  return detectorConstructors\n",
    "\n",
    "if \"bayesChangePt\" in detectors:\n",
    "    from nab.detectors.bayes_changept.bayes_changept_detector import (\n",
    "      BayesChangePtDetector)\n",
    "if \"null\" in detectors:\n",
    "    from nab.detectors.null.null_detector import NullDetector\n",
    "if \"random\" in detectors:\n",
    "    from nab.detectors.random.random_detector import RandomDetector\n",
    "  # By default the skyline detector is disabled, it can still be added to the\n",
    "  # detectors argument to enable it, for more info see #335 and #333\n",
    "if \"skyline\" in detectors:\n",
    "    from nab.detectors.skyline.skyline_detector import SkylineDetector\n",
    "if \"windowedGaussian\" in detectors:\n",
    "    from nab.detectors.gaussian.windowedGaussian_detector import (\n",
    "      WindowedGaussianDetector)\n",
    "if \"knncad\" in detectors:\n",
    "    from nab.detectors.knncad.knncad_detector import KnncadDetector\n",
    "if \"relativeEntropy\" in detectors:\n",
    "    from nab.detectors.relative_entropy.relative_entropy_detector import (\n",
    "      RelativeEntropyDetector)\n",
    "if \"expose\" in detectors:\n",
    "    from nab.detectors.expose.expose_detector import ExposeDetector\n",
    "if \"contextOSE\" in detectors:\n",
    "    from nab.detectors.context_ose.context_ose_detector import (\n",
    "    ContextOSEDetector )\n",
    "if \"earthgeckoSkyline\" in detectors:\n",
    "    from nab.detectors.earthgecko_skyline.earthgecko_skyline_detector import EarthgeckoSkylineDetector\n",
    "if \"ARTime\" in detectors:\n",
    "    from nab.detectors.ARTime.ARTime_detector import ARTimeDetector"
   ]
  },
  {
   "cell_type": "code",
   "execution_count": 6,
   "metadata": {},
   "outputs": [],
   "source": [
    "root = config.NAB_ASSETS\n",
    "#don't have .. in path as that messup up relative paths in nab code\n",
    "\n",
    "dataDir= str(root / \"raw_datasets\")\n",
    "windowsFile=str(root / \"labels\" / \"combined_windows.json\")\n",
    "resultsDir=str(root / \"predictions\" )\n",
    "profilesFile=str(root / \"config\" / \"profiles.json\")\n",
    "thresholdsFile=str(root / \"config\" / \"config.json\")\n",
    "numCPUs=4\n",
    "\n",
    "runner = Runner(dataDir=dataDir,\n",
    "                labelPath=windowsFile,\n",
    "                resultsDir=resultsDir,\n",
    "                profilesPath=profilesFile,\n",
    "                thresholdPath=thresholdsFile,\n",
    "                numCPUs=numCPUs)\n",
    "\n",
    "runner.initialize()"
   ]
  },
  {
   "cell_type": "code",
   "execution_count": null,
   "metadata": {},
   "outputs": [
    {
     "name": "stdout",
     "output_type": "stream",
     "text": [
      "\n",
      "Running detection step\n"
     ]
    }
   ],
   "source": [
    "detectorConstructors = getDetectorClassConstructors(detectors)\n",
    "runner.detect(detectorConstructors)"
   ]
  },
  {
   "cell_type": "code",
   "execution_count": 6,
   "metadata": {},
   "outputs": [
    {
     "name": "stdout",
     "output_type": "stream",
     "text": [
      "\n",
      "Running optimize step\n",
      "Optimizer found a max score of 14.19823623760221 with anomaly threshold 1.0.\n",
      "Optimizer found a max score of -20.058228224940617 with anomaly threshold 1.0.\n",
      "Optimizer found a max score of -10.441429686808725 with anomaly threshold 0.9972640218878248.\n"
     ]
    },
    {
     "data": {
      "text/plain": [
       "{'knncad': {'standard': {'threshold': 1.0, 'score': 14.19823623760221},\n",
       "  'reward_low_FP_rate': {'threshold': 1.0, 'score': -20.058228224940617},\n",
       "  'reward_low_FN_rate': {'threshold': 0.9972640218878248,\n",
       "   'score': -10.441429686808725}}}"
      ]
     },
     "execution_count": 6,
     "metadata": {},
     "output_type": "execute_result"
    }
   ],
   "source": [
    "runner.optimize(detectors)"
   ]
  },
  {
   "cell_type": "code",
   "execution_count": 7,
   "metadata": {},
   "outputs": [
    {
     "name": "stdout",
     "output_type": "stream",
     "text": [
      "\n",
      "Running scoring step\n",
      "knncad detector benchmark scores written to static\\nab\\results\\knncad\\knncad_standard_scores.csv\n",
      "knncad detector benchmark scores written to static\\nab\\results\\knncad\\knncad_reward_low_FP_rate_scores.csv\n",
      "knncad detector benchmark scores written to static\\nab\\results\\knncad\\knncad_reward_low_FN_rate_scores.csv\n"
     ]
    }
   ],
   "source": [
    "with open(thresholdsFile) as thresholdConfigFile:\n",
    "    detectorThresholds = json.load(thresholdConfigFile)\n",
    "runner.score(detectors, detectorThresholds)"
   ]
  }
 ],
 "metadata": {
  "kernelspec": {
   "display_name": "fastapi",
   "language": "python",
   "name": "python3"
  },
  "language_info": {
   "codemirror_mode": {
    "name": "ipython",
    "version": 3
   },
   "file_extension": ".py",
   "mimetype": "text/x-python",
   "name": "python",
   "nbconvert_exporter": "python",
   "pygments_lexer": "ipython3",
   "version": "3.12.3"
  }
 },
 "nbformat": 4,
 "nbformat_minor": 2
}
