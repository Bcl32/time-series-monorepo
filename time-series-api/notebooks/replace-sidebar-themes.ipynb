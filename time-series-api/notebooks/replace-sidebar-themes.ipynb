{
 "cells": [
  {
   "cell_type": "code",
   "execution_count": null,
   "metadata": {},
   "outputs": [],
   "source": [
    "import sys\n",
    "sys.path.append('..')\n",
    "\n",
    "from pathlib import Path\n",
    "import json\n",
    "import os\n",
    "\n",
    "PATH=\"../../apps/time-series/src/themes.json\""
   ]
  },
  {
   "cell_type": "code",
   "execution_count": null,
   "metadata": {},
   "outputs": [],
   "source": [
    "def save_json_file(json_data):\n",
    "    with open(PATH,\"w\") as json_file:\n",
    "        json.dump(json_data,json_file)\n",
    "\n",
    "#for custom themes without defined sidebar properties, use the basic theme variables instead\n",
    "sidebar_pairs={\"sidebar-background\":\"card\", \n",
    "               \"sidebar-foreground\":\"foreground\",\n",
    "               \"sidebar-primary\":\"primary\",\n",
    "               \"sidebar-primary-foreground\":\"primary-foreground\",\n",
    "               \"sidebar-accent\":\"accent\",\n",
    "               \"sidebar-accent-foreground\":\"accent-foreground\",\n",
    "               \"sidebar-border\":\"border\",\n",
    "               \"sidebar-ring\":\"ring\"\n",
    "               }"
   ]
  },
  {
   "cell_type": "code",
   "execution_count": 21,
   "metadata": {},
   "outputs": [],
   "source": [
    "styles_dict={}\n",
    "with open(PATH) as json_file:     \n",
    "    data = json.load(json_file)\n",
    "    for p in data:  \n",
    "        theme=data[p]\n",
    "\n",
    "        for key in sidebar_pairs.keys(): #for each sidebar variable\n",
    "            if key not in theme: #if not already in the theme\n",
    "                new_value=sidebar_pairs[key] #get matching pair value from sidebar_pairs dict\n",
    "                theme[key]=theme[new_value] #add the value as a new sidebar variable\n",
    "\n",
    "\n",
    "        \n",
    "save_json_file(data)"
   ]
  }
 ],
 "metadata": {
  "kernelspec": {
   "display_name": "fastapi",
   "language": "python",
   "name": "python3"
  },
  "language_info": {
   "codemirror_mode": {
    "name": "ipython",
    "version": 3
   },
   "file_extension": ".py",
   "mimetype": "text/x-python",
   "name": "python",
   "nbconvert_exporter": "python",
   "pygments_lexer": "ipython3",
   "version": "3.12.3"
  }
 },
 "nbformat": 4,
 "nbformat_minor": 2
}
