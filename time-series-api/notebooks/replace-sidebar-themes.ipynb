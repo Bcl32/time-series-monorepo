{
 "cells": [
  {
   "cell_type": "code",
   "execution_count": 1,
   "metadata": {},
   "outputs": [],
   "source": [
    "import sys\n",
    "sys.path.append('..')\n",
    "\n",
    "from pathlib import Path\n",
    "import json\n",
    "import os\n",
    "\n",
    "PATH=\"../../apps/time-series/src/themes.json\""
   ]
  },
  {
   "cell_type": "code",
   "execution_count": 2,
   "metadata": {},
   "outputs": [],
   "source": [
    "def save_json_file(json_data):\n",
    "    with open(PATH,\"w\") as json_file:\n",
    "        json.dump(json_data,json_file)\n",
    "\n",
    "#for custom themes without defined sidebar properties, use the basic theme variables instead\n",
    "sidebar_pairs={\"sidebar-background\":\"card\", \n",
    "               \"sidebar-foreground\":\"foreground\",\n",
    "               \"sidebar-primary\":\"primary\",\n",
    "               \"sidebar-primary-foreground\":\"primary-foreground\",\n",
    "               \"sidebar-accent\":\"accent\",\n",
    "               \"sidebar-accent-foreground\":\"accent-foreground\",\n",
    "               \"sidebar-border\":\"border\",\n",
    "               \"sidebar-ring\":\"ring\"\n",
    "               }"
   ]
  },
  {
   "cell_type": "code",
   "execution_count": null,
   "metadata": {},
   "outputs": [
    {
     "name": "stdout",
     "output_type": "stream",
     "text": [
      "hsl(0 0% 98%)\n",
      "hsl(240 5.3% 26.1%)\n",
      "hsl(0 5.9% 10%)\n",
      "hsl(0 0% 98%)\n",
      "hsl(240 4.8% 95.9%)\n",
      "hsl(240 5.9% 10%)\n",
      "hsl(220 13% 91%)\n",
      "hsl(217.2 91.2% 59.8%)\n",
      "hsl(240 5.9% 10%)\n",
      "hsl(240 4.8% 95.9%)\n",
      "hsl(0 0% 98%)\n",
      "hsl(240 5.9% 10%)\n",
      "hsl(240 3.7% 15.9%)\n",
      "hsl(240 4.8% 95.9%)\n",
      "hsl(240 3.7% 15.9%)\n",
      "hsl(217.2 91.2% 59.8%)\n",
      "hsl(155 36% 100%)\n",
      "hsl(155 71% 1%)\n",
      "hsl(155 58% 29%)\n",
      "hsl(0 0% 100%)\n",
      "hsl(155 23% 71%)\n",
      "hsl(155 23% 11%)\n",
      "hsl(155 13% 90%)\n",
      "hsl(155 58% 29%)\n",
      "hsl(155 30% 0%)\n",
      "hsl(155 29% 98%)\n",
      "hsl(155 58% 29%)\n",
      "hsl(0 0% 100%)\n",
      "hsl(155 19% 25%)\n",
      "hsl(155 19% 85%)\n",
      "hsl(155 13% 15%)\n",
      "hsl(155 58% 29%)\n",
      "hsl(200 45% 7%)\n",
      "hsl(200 10% 97%)\n",
      "hsl(200 100% 57%)\n",
      "hsl(200 10% 5%)\n",
      "hsl(200 50% 17%)\n",
      "hsl(200 10% 97%)\n",
      "hsl(200 50% 17%)\n",
      "hsl(224.3 76.3% 48%)\n"
     ]
    }
   ],
   "source": [
    "styles_dict={}\n",
    "with open(PATH) as json_file:     \n",
    "    data = json.load(json_file)\n",
    "    for p in data:  \n",
    "        theme=data[p]\n",
    "\n",
    "        for key in sidebar_pairs.keys(): #for each sidebar variable\n",
    "            if key not in theme: #if not already in the theme\n",
    "                new_value=sidebar_pairs[key] #get matching pair value from sidebar_pairs dict\n",
    "                data[p][key]=theme[new_value] #add the value as a new sidebar variable\n",
    "            print(p,theme[key])\n",
    "\n",
    "\n",
    "save_json_file(data)"
   ]
  },
  {
   "cell_type": "code",
   "execution_count": null,
   "metadata": {},
   "outputs": [],
   "source": []
  }
 ],
 "metadata": {
  "kernelspec": {
   "display_name": "fastapi",
   "language": "python",
   "name": "python3"
  },
  "language_info": {
   "codemirror_mode": {
    "name": "ipython",
    "version": 3
   },
   "file_extension": ".py",
   "mimetype": "text/x-python",
   "name": "python",
   "nbconvert_exporter": "python",
   "pygments_lexer": "ipython3",
   "version": "3.12.3"
  }
 },
 "nbformat": 4,
 "nbformat_minor": 2
}
