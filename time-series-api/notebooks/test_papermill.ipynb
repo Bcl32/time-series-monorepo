{
 "cells": [
  {
   "cell_type": "code",
   "execution_count": 3,
   "metadata": {},
   "outputs": [],
   "source": [
    "import papermill as pm"
   ]
  },
  {
   "cell_type": "code",
   "execution_count": 4,
   "metadata": {},
   "outputs": [
    {
     "name": "stderr",
     "output_type": "stream",
     "text": [
      "Executing:  60%|██████    | 3/5 [00:02<00:01,  1.39cell/s]\n"
     ]
    },
    {
     "ename": "PapermillExecutionError",
     "evalue": "\n---------------------------------------------------------------------------\nException encountered at \"In [3]\":\n---------------------------------------------------------------------------\nHTTPStatusError                           Traceback (most recent call last)\nCell In[3], line 1\n----> 1 resp = await client.request(\"post\",\"/collection/create\",json={\"payload\":{}})\n\nFile /app/python-modules/utils/TimeSeriesClient.py:11, in TimeSeriesClient.request(self, method, url, print_response, *args, **kwargs)\n      9 async def request(self, method, url, print_response=False, *args, **kwargs):\n     10     response = await super().request(method, url, *args, **kwargs)\n---> 11     data = self.check_api_success(response)\n     12     if (print_response==True):\n     13         print(response.headers)\n\nFile /app/python-modules/utils/TimeSeriesClient.py:23, in TimeSeriesClient.check_api_success(self, response)\n     21     print(\"422:\")\n     22     print(json.dumps(response.json(), indent=2))\n---> 23     response.raise_for_status()\n     25 elif response.status_code == 307:\n     26     print(\"307: Temporary Redirect\")\n\nFile /usr/local/lib/python3.10/site-packages/httpx/_models.py:761, in Response.raise_for_status(self)\n    759 error_type = error_types.get(status_class, \"Invalid status code\")\n    760 message = message.format(self, error_type=error_type)\n--> 761 raise HTTPStatusError(message, request=request, response=self)\n\nHTTPStatusError: Client error '422 Unprocessable Entity' for url 'http://127.0.0.1:8000/collection/create'\nFor more information check: https://developer.mozilla.org/en-US/docs/Web/HTTP/Status/422\n",
     "output_type": "error",
     "traceback": [
      "\u001b[0;31m---------------------------------------------------------------------------\u001b[0m",
      "\u001b[0;31mPapermillExecutionError\u001b[0m                   Traceback (most recent call last)",
      "Cell \u001b[0;32mIn[4], line 1\u001b[0m\n\u001b[0;32m----> 1\u001b[0m \u001b[43mpm\u001b[49m\u001b[38;5;241;43m.\u001b[39;49m\u001b[43mexecute_notebook\u001b[49m\u001b[43m(\u001b[49m\n\u001b[1;32m      2\u001b[0m \u001b[43m   \u001b[49m\u001b[38;5;124;43m'\u001b[39;49m\u001b[38;5;124;43m./basic_tests_httpx.ipynb\u001b[39;49m\u001b[38;5;124;43m'\u001b[39;49m\u001b[43m,\u001b[49m\n\u001b[1;32m      3\u001b[0m \u001b[43m   \u001b[49m\u001b[38;5;124;43m'\u001b[39;49m\u001b[38;5;124;43m./test-get_all.ipynb\u001b[39;49m\u001b[38;5;124;43m'\u001b[39;49m\n\u001b[1;32m      4\u001b[0m \u001b[43m)\u001b[49m\n",
      "File \u001b[0;32m/usr/local/lib/python3.10/site-packages/papermill/execute.py:131\u001b[0m, in \u001b[0;36mexecute_notebook\u001b[0;34m(input_path, output_path, parameters, engine_name, request_save_on_cell_execute, prepare_only, kernel_name, language, progress_bar, log_output, stdout_file, stderr_file, start_timeout, report_mode, cwd, **engine_kwargs)\u001b[0m\n\u001b[1;32m    116\u001b[0m         nb \u001b[38;5;241m=\u001b[39m papermill_engines\u001b[38;5;241m.\u001b[39mexecute_notebook_with_engine(\n\u001b[1;32m    117\u001b[0m             engine_name,\n\u001b[1;32m    118\u001b[0m             nb,\n\u001b[0;32m   (...)\u001b[0m\n\u001b[1;32m    127\u001b[0m             \u001b[38;5;241m*\u001b[39m\u001b[38;5;241m*\u001b[39mengine_kwargs,\n\u001b[1;32m    128\u001b[0m         )\n\u001b[1;32m    130\u001b[0m     \u001b[38;5;66;03m# Check for errors first (it saves on error before raising)\u001b[39;00m\n\u001b[0;32m--> 131\u001b[0m     \u001b[43mraise_for_execution_errors\u001b[49m\u001b[43m(\u001b[49m\u001b[43mnb\u001b[49m\u001b[43m,\u001b[49m\u001b[43m \u001b[49m\u001b[43moutput_path\u001b[49m\u001b[43m)\u001b[49m\n\u001b[1;32m    133\u001b[0m \u001b[38;5;66;03m# Write final output in case the engine didn't write it on cell completion.\u001b[39;00m\n\u001b[1;32m    134\u001b[0m write_ipynb(nb, output_path)\n",
      "File \u001b[0;32m/usr/local/lib/python3.10/site-packages/papermill/execute.py:251\u001b[0m, in \u001b[0;36mraise_for_execution_errors\u001b[0;34m(nb, output_path)\u001b[0m\n\u001b[1;32m    248\u001b[0m nb\u001b[38;5;241m.\u001b[39mcells\u001b[38;5;241m.\u001b[39minsert(\u001b[38;5;241m0\u001b[39m, error_msg_cell)\n\u001b[1;32m    250\u001b[0m write_ipynb(nb, output_path)\n\u001b[0;32m--> 251\u001b[0m \u001b[38;5;28;01mraise\u001b[39;00m error\n",
      "\u001b[0;31mPapermillExecutionError\u001b[0m: \n---------------------------------------------------------------------------\nException encountered at \"In [3]\":\n---------------------------------------------------------------------------\nHTTPStatusError                           Traceback (most recent call last)\nCell In[3], line 1\n----> 1 resp = await client.request(\"post\",\"/collection/create\",json={\"payload\":{}})\n\nFile /app/python-modules/utils/TimeSeriesClient.py:11, in TimeSeriesClient.request(self, method, url, print_response, *args, **kwargs)\n      9 async def request(self, method, url, print_response=False, *args, **kwargs):\n     10     response = await super().request(method, url, *args, **kwargs)\n---> 11     data = self.check_api_success(response)\n     12     if (print_response==True):\n     13         print(response.headers)\n\nFile /app/python-modules/utils/TimeSeriesClient.py:23, in TimeSeriesClient.check_api_success(self, response)\n     21     print(\"422:\")\n     22     print(json.dumps(response.json(), indent=2))\n---> 23     response.raise_for_status()\n     25 elif response.status_code == 307:\n     26     print(\"307: Temporary Redirect\")\n\nFile /usr/local/lib/python3.10/site-packages/httpx/_models.py:761, in Response.raise_for_status(self)\n    759 error_type = error_types.get(status_class, \"Invalid status code\")\n    760 message = message.format(self, error_type=error_type)\n--> 761 raise HTTPStatusError(message, request=request, response=self)\n\nHTTPStatusError: Client error '422 Unprocessable Entity' for url 'http://127.0.0.1:8000/collection/create'\nFor more information check: https://developer.mozilla.org/en-US/docs/Web/HTTP/Status/422\n"
     ]
    }
   ],
   "source": [
    "pm.execute_notebook(\n",
    "   './basic_tests_httpx.ipynb',\n",
    "   './test-get_all.ipynb'\n",
    ")"
   ]
  }
 ],
 "metadata": {
  "kernelspec": {
   "display_name": "Python 3",
   "language": "python",
   "name": "python3"
  },
  "language_info": {
   "codemirror_mode": {
    "name": "ipython",
    "version": 3
   },
   "file_extension": ".py",
   "mimetype": "text/x-python",
   "name": "python",
   "nbconvert_exporter": "python",
   "pygments_lexer": "ipython3",
   "version": "3.10.15"
  }
 },
 "nbformat": 4,
 "nbformat_minor": 2
}
